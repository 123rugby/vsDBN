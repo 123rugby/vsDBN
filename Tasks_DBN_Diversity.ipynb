{
 "cells": [
  {
   "cell_type": "code",
   "execution_count": 28,
   "metadata": {},
   "outputs": [],
   "source": [
    "import numpy as np\n",
    "def MapHierach( a, b):\n",
    "    I = np.count_nonzero(np.logical_and(a, b))\n",
    "    A=np.count_nonzero(a)\n",
    "    B=np.count_nonzero(b)\n",
    "    return I/min([A,B])\n",
    "\n",
    "import numpy as np\n",
    "def MapOverlap( a, b):\n",
    "    Intersect = np.logical_and(a, b)\n",
    "    Union=np.logical_or(a, b)\n",
    "    return np.count_nonzero(Intersect)/np.count_nonzero(Union)"
   ]
  },
  {
   "cell_type": "code",
   "execution_count": 29,
   "metadata": {},
   "outputs": [],
   "source": [
    "# from scipy.stats import entropy\n",
    "# def MI(a,b):\n",
    "#     return metrics.mutual_info_score(a,b)/(entropy(a,b)+entropy(b,a))/2"
   ]
  },
  {
   "cell_type": "code",
   "execution_count": 30,
   "metadata": {},
   "outputs": [],
   "source": [
    "from sklearn import metrics\n",
    "def LayerHierach(A,B):\n",
    "    D=[]\n",
    "    for i,a in enumerate(A):\n",
    "        D.append([])\n",
    "        print(i)\n",
    "        for j,b in enumerate(B):\n",
    "            score=MapOverlap(a,b)\n",
    "            if score==1:\n",
    "                score=0\n",
    "            D[i].append(score)\n",
    "    return D\n"
   ]
  },
  {
   "cell_type": "code",
   "execution_count": 31,
   "metadata": {},
   "outputs": [],
   "source": [
    "%matplotlib inline\n",
    "import matplotlib.pyplot as plt\n",
    "import seaborn as sns\n",
    "def plot(D,file):\n",
    "    mask = np.zeros_like(D, dtype=np.bool)\n",
    "    mask[np.triu_indices_from(mask)] = True\n",
    "    plt.figure()\n",
    "    sns_plot=sns.clustermap(D,cmap=\"Reds\")\n",
    "#     sns_plot=sns.clustermap(D,cmap=\"Reds\",col_cluster=False,row_cluster=False,xticklabels=10)\n",
    "#     sns_plot.cax.set_visible(False)\n",
    "#     # gap issue https://github.com/mwaskom/seaborn/pull/441\n",
    "#     col = sns_plot.ax_col_dendrogram.get_position()\n",
    "#     sns_plot.ax_col_dendrogram.set_position([col.x0, col.y0, col.width, col.height*0.01])\n",
    "\n",
    "    plt.savefig(file, bbox_inches='tight')\n",
    "    \n",
    "\n",
    "\n",
    "\n",
    "\n"
   ]
  },
  {
   "cell_type": "code",
   "execution_count": null,
   "metadata": {},
   "outputs": [
    {
     "name": "stdout",
     "output_type": "stream",
     "text": [
      "0\n",
      "1\n",
      "2\n",
      "3\n",
      "4\n",
      "5\n",
      "6\n",
      "7\n",
      "8\n",
      "9\n",
      "10\n",
      "11\n",
      "12\n",
      "13\n",
      "14\n",
      "15\n",
      "16\n",
      "17\n",
      "18\n",
      "19\n",
      "20\n",
      "21\n",
      "22\n",
      "23\n",
      "24\n",
      "25\n",
      "26\n",
      "27\n",
      "28\n",
      "29\n",
      "30\n",
      "31\n",
      "32\n",
      "33\n",
      "34\n",
      "35\n",
      "36\n",
      "37\n",
      "38\n",
      "39\n",
      "40\n",
      "41\n",
      "42\n",
      "43\n",
      "44\n",
      "45\n",
      "46\n",
      "47\n",
      "48\n",
      "49\n",
      "50\n",
      "51\n",
      "52\n",
      "53\n",
      "54\n",
      "55\n",
      "56\n",
      "57\n",
      "58\n",
      "59\n",
      "60\n",
      "61\n",
      "62\n",
      "63\n",
      "64\n",
      "65\n",
      "66\n",
      "67\n",
      "68\n",
      "69\n",
      "70\n",
      "71\n",
      "72\n",
      "73\n",
      "74\n",
      "75\n",
      "76\n",
      "77\n",
      "78\n",
      "79\n",
      "80\n",
      "81\n",
      "82\n",
      "83\n",
      "84\n"
     ]
    }
   ],
   "source": [
    "\n",
    "import numpy as np\n",
    "tasks=['EMOTION','GAMBLING','LANGUAGE','MOTOR','RELATIONAL','SOCIAL','WM']\n",
    "for task in tasks:\n",
    "    map1=np.load('/home/share/TmpData/Qinglin/HCP_Group_DBN/'+task+'_map1.npy')\n",
    "    map2=np.load('/home/share/TmpData/Qinglin/HCP_Group_DBN/'+task+'_map2.npy')\n",
    "    map3=np.load('/home/share/TmpData/Qinglin/HCP_Group_DBN/'+task+'_map3.npy')\n",
    "    D1=LayerHierach(map1,map1)\n",
    "    D2=LayerHierach(map2,map2)\n",
    "    D3=LayerHierach(map3,map3)\n",
    "    plot(D1,'/home/share/TmpData/Qinglin/HCP_Group_DBN/Diversity/'+task+'_D1.png')\n",
    "    plot(D2,'/home/share/TmpData/Qinglin/HCP_Group_DBN/Diversity/'+task+'_D2.png')\n",
    "    plot(D3,'/home/share/TmpData/Qinglin/HCP_Group_DBN/Diversity/'+task+'_D3.png')\n",
    " "
   ]
  },
  {
   "cell_type": "code",
   "execution_count": null,
   "metadata": {
    "scrolled": true
   },
   "outputs": [],
   "source": [
    "plot(D1,'/home/share/TmpData/Qinglin/HCP_Group_DBN/Diversity/'+task+'_D1.png')\n",
    "plot(D2,'/home/share/TmpData/Qinglin/HCP_Group_DBN/Diversity/'+task+'_D2.png')\n",
    "plot(D3,'/home/share/TmpData/Qinglin/HCP_Group_DBN/Diversity/'+task+'_D3.png')"
   ]
  },
  {
   "cell_type": "code",
   "execution_count": null,
   "metadata": {},
   "outputs": [],
   "source": []
  },
  {
   "cell_type": "code",
   "execution_count": null,
   "metadata": {},
   "outputs": [],
   "source": []
  }
 ],
 "metadata": {
  "kernelspec": {
   "display_name": "Python 3",
   "language": "python",
   "name": "python3"
  },
  "language_info": {
   "codemirror_mode": {
    "name": "ipython",
    "version": 3
   },
   "file_extension": ".py",
   "mimetype": "text/x-python",
   "name": "python",
   "nbconvert_exporter": "python",
   "pygments_lexer": "ipython3",
   "version": "3.5.2"
  }
 },
 "nbformat": 4,
 "nbformat_minor": 2
}
