{
 "cells": [
  {
   "cell_type": "code",
   "execution_count": 105,
   "metadata": {},
   "outputs": [
    {
     "name": "stdout",
     "output_type": "stream",
     "text": [
      "/home/share/TmpData/Qinglin/HCP_4mm_GLM/EMOTION/IC1_high.nii.gz\n",
      "/home/share/TmpData/Qinglin/HCP_4mm_GLM/GAMBLING/IC1_high.nii.gz\n",
      "/home/share/TmpData/Qinglin/HCP_4mm_GLM/LANGUAGE/IC1_high.nii.gz\n",
      "/home/share/TmpData/Qinglin/HCP_4mm_GLM/MOTOR/IC1_high.nii.gz\n",
      "/home/share/TmpData/Qinglin/HCP_4mm_GLM/RELATIONAL/IC1_high.nii.gz\n",
      "/home/share/TmpData/Qinglin/HCP_4mm_GLM/SOCIAL/IC1_high.nii.gz\n",
      "/home/share/TmpData/Qinglin/HCP_4mm_GLM/WM/IC1_high.nii.gz\n"
     ]
    }
   ],
   "source": [
    "from nilearn.datasets import load_mni152_brain_mask\n",
    "from nilearn import image\n",
    "from nilearn.input_data import NiftiMasker\n",
    "\n",
    "mask_img = load_mni152_brain_mask()\n",
    "masker = NiftiMasker(mask_img=mask_img,standardize=True)\n",
    "masker.fit()\n",
    "\n",
    "def flip(row):\n",
    "    if np.sum(row > 0) < np.sum(row < 0):\n",
    "        row *= -1\n",
    "        \n",
    "def load_maps(file):\n",
    "    print(file)\n",
    "    GLM=image.load_img(file)\n",
    "    maps_GLM=masker.transform(GLM)\n",
    "#     maps_GLM[maps_GLM<0]=0\n",
    "#     for row in maps_GLM:\n",
    "#         flip(row)\n",
    "    return maps_GLM\n",
    "\n",
    "# plot GLM map\n",
    "from nilearn.image import iter_img\n",
    "from nilearn.plotting import plot_stat_map, show\n",
    "from pylab import figure\n",
    "import os\n",
    "\n",
    "def save_maps(components_img,dir):        \n",
    "    if not os.path.exists(dir):\n",
    "        os.makedirs(dir)\n",
    "    components_img = masker.inverse_transform(components_img)\n",
    "    for i, cur_img in enumerate(iter_img(components_img)):\n",
    "        outname=dir+str(i)+'.png'\n",
    "        plot_stat_map(cur_img, display_mode=\"ortho\", black_bg=True,\n",
    "                     colorbar=False,output_file=outname,title=\"Cope %d\" % int(i+1))\n",
    "\n",
    "tasks=['EMOTION','GAMBLING','LANGUAGE','MOTOR','RELATIONAL','SOCIAL','WM']\n",
    "for task in tasks:\n",
    "    GLM=load_maps('/home/share/TmpData/Qinglin/HCP_4mm_GLM/'+task+'/IC1_high.nii.gz')\n",
    "\n",
    "    dir='/home/share/TmpData/Qinglin/HCP_Group_DBN/GLM/'+task+'_GLM/'\n",
    "    if not os.path.exists(dir):\n",
    "        os.makedirs(dir)\n",
    "    save_maps(maps_GLM,dir)        \n",
    " "
   ]
  },
  {
   "cell_type": "code",
   "execution_count": 83,
   "metadata": {},
   "outputs": [],
   "source": [
    "import numpy as np\n",
    "def MapOverlap( a, b):\n",
    "    Intersect = np.logical_and(a, b)\n",
    "    Union=np.logical_or(a, b)\n",
    "    return np.count_nonzero(Intersect)/np.count_nonzero(Union)\n",
    "def MapHierach( a, b):\n",
    "    I = np.count_nonzero(np.logical_and(a, b))\n",
    "    A=np.count_nonzero(a)\n",
    "    B=np.count_nonzero(b)\n",
    "    return I/min([A,B])\n",
    "from scipy.stats import entropy\n",
    "def KL(a,b):\n",
    "    return (entropy(a,b)+entropy(b,a))/2\n",
    "from sklearn import metrics\n",
    "def LayerOverlap(A,B):\n",
    "    D=[]\n",
    "    for i,a in enumerate(A):\n",
    "        D.append([])\n",
    "        print(i)\n",
    "        for j,b in enumerate(B):\n",
    "#             score=metrics.mutual_info_score(a,b)\n",
    "            score=MapOverlap(a,b)\n",
    "#             score=KL(a,b)\n",
    "            D[i].append(score)\n",
    "    return D"
   ]
  },
  {
   "cell_type": "code",
   "execution_count": 90,
   "metadata": {},
   "outputs": [],
   "source": [
    "# # plot all Overlap\n",
    "# %matplotlib inline\n",
    "# import matplotlib.pyplot as plt\n",
    "# import seaborn as sns\n",
    "# def plot(D,file):\n",
    "#     plt.ylim(1, 7)\n",
    "#     plt.figure(figsize=(5,2))\n",
    "#     sns_plot=sns.heatmap(D,cmap=\"Reds\",vmax=1)\n",
    "#     plt.savefig(file, bbox_inches='tight')\n",
    "  \n",
    "# tasks=['EMOTION','GAMBLING','LANGUAGE','MOTOR','RELATIONAL','SOCIAL','WM']\n",
    "# def run(task):\n",
    "#     map1=np.load('/home/share/TmpData/Qinglin/HCP_Group_DBN/'+task+'_map1.npy')\n",
    "#     map2=np.load('/home/share/TmpData/Qinglin/HCP_Group_DBN/'+task+'_map2.npy')\n",
    "#     map3=np.load('/home/share/TmpData/Qinglin/HCP_Group_DBN/'+task+'_map3.npy')\n",
    "#     maps_GLM=load_maps('/home/share/TmpData/Qinglin/HCP_4mm_GLM/'+task+'/IC1_high.nii.gz')\n",
    "#     D1=LayerOverlap(maps_GLM,map1)\n",
    "#     D2=LayerOverlap(maps_GLM,map2)\n",
    "#     D3=LayerOverlap(maps_GLM,map3)\n",
    "#     plot(D1,'/home/share/TmpData/Qinglin/HCP_Group_DBN/GLM/'+task+'_D1.png')\n",
    "#     plot(D2,'/home/share/TmpData/Qinglin/HCP_Group_DBN/GLM/'+task+'_D2.png')\n",
    "#     plot(D3,'/home/share/TmpData/Qinglin/HCP_Group_DBN/GLM/'+task+'_D3.png')\n",
    "# from joblib import Parallel, delayed\n",
    "# tasks=['EMOTION','GAMBLING','LANGUAGE','MOTOR','RELATIONAL','SOCIAL','WM']\n",
    "# Parallel(n_jobs=7)(delayed(run)(task) for task in tasks)\n",
    "\n",
    "  \n"
   ]
  },
  {
   "cell_type": "code",
   "execution_count": 102,
   "metadata": {},
   "outputs": [
    {
     "data": {
      "text/plain": [
       "[None, None, None, None, None, None, None]"
      ]
     },
     "execution_count": 102,
     "metadata": {},
     "output_type": "execute_result"
    }
   ],
   "source": [
    "# best match of 7 tasks\n",
    "import operator\n",
    "import numpy as np\n",
    "from shutil import copyfile\n",
    "import shutil\n",
    "def match(task):\n",
    "    map1=np.load('/home/share/TmpData/Qinglin/HCP_Group_DBN/'+task+'_map1.npy')\n",
    "    map2=np.load('/home/share/TmpData/Qinglin/HCP_Group_DBN/'+task+'_map2.npy')\n",
    "    map3=np.load('/home/share/TmpData/Qinglin/HCP_Group_DBN/'+task+'_map3.npy')\n",
    "    maps_GLM=load_maps('/home/share/TmpData/Qinglin/HCP_4mm_GLM/'+task+'/IC1_high.nii.gz')\n",
    "\n",
    "    D1=LayerOverlap(maps_GLM,map1)\n",
    "    D2=LayerOverlap(maps_GLM,map2)\n",
    "    D3=LayerOverlap(maps_GLM,map3)\n",
    "\n",
    "    src='/home/share/TmpData/Qinglin/HCP_Group_DBN/Maps_ortho/'\n",
    "    dst='/home/share/TmpData/Qinglin/HCP_Group_DBN/GLM/'+task+'_match/'\n",
    "    shutil.rmtree(dst) \n",
    "    if not os.path.exists(dst):\n",
    "            os.makedirs(dst)\n",
    "    \n",
    "    copyfile('/home/share/TmpData/Qinglin/HCP_4mm/100206/MNINonLinear/Results/tfMRI_'+task+'_LR/tfMRI_'+task+'_LR_hp200_s4.feat/design.png', dst+'design.png')\n",
    "    for t in list(range(0,len(maps_GLM))):\n",
    "        index1, value = max(enumerate(D1[t]), key=operator.itemgetter(1))\n",
    "        index2, value = max(enumerate(D2[t]), key=operator.itemgetter(1))\n",
    "        index3, value = max(enumerate(D3[t]), key=operator.itemgetter(1))\n",
    "                \n",
    "        copyfile(src+task+'_W1/'+str(index1+1)+'.png', dst+str(t)+'_W1_'+str(index1+1)+'.png')\n",
    "        copyfile(src+task+'_W2/'+str(index2+1)+'.png', dst+str(t)+'_W2_'+str(index1+1)+'.png')\n",
    "        copyfile(src+task+'_W3/'+str(index3+1)+'.png', dst+str(t)+'_W3_'+str(index1+1)+'.png')\n",
    "        \n",
    "        copyfile('/home/share/TmpData/Qinglin/HCP_Group_DBN/GLM/EMOTION_GLM/'+str(t)+'.png', dst+str(t)+'.png')\n",
    "        \n",
    "# match('EMOTION')        \n",
    "from joblib import Parallel, delayed\n",
    "tasks=['EMOTION','GAMBLING','LANGUAGE','MOTOR','RELATIONAL','SOCIAL','WM']\n",
    "Parallel(n_jobs=7)(delayed(match)(task) for task in tasks)        "
   ]
  },
  {
   "cell_type": "code",
   "execution_count": 97,
   "metadata": {},
   "outputs": [
    {
     "data": {
      "text/plain": [
       "'MOTOR'"
      ]
     },
     "execution_count": 97,
     "metadata": {},
     "output_type": "execute_result"
    }
   ],
   "source": [
    "task"
   ]
  },
  {
   "cell_type": "code",
   "execution_count": null,
   "metadata": {},
   "outputs": [],
   "source": []
  }
 ],
 "metadata": {
  "kernelspec": {
   "display_name": "Python 3",
   "language": "python",
   "name": "python3"
  },
  "language_info": {
   "codemirror_mode": {
    "name": "ipython",
    "version": 3
   },
   "file_extension": ".py",
   "mimetype": "text/x-python",
   "name": "python",
   "nbconvert_exporter": "python",
   "pygments_lexer": "ipython3",
   "version": "3.5.2"
  }
 },
 "nbformat": 4,
 "nbformat_minor": 2
}
