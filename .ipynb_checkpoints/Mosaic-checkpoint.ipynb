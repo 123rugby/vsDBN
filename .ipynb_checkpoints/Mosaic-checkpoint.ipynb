{
 "cells": [
  {
   "cell_type": "code",
   "execution_count": null,
   "metadata": {},
   "outputs": [],
   "source": [
    "import os\n",
    "import Image\n",
    "import ImageFont\n",
    "import ImageDraw\n",
    "\n",
    "\n",
    "img_list   = []\n",
    "img_text   = []\n",
    "img_path   = \"./data/\"\n",
    "width      = 176 #684\n",
    "height     = 187 #1024\n",
    "text_pos_x = 3   #10\n",
    "text_pos_y = 3   #10\n",
    "text_size  = 10  #50\n",
    "rows       = 2\n",
    "columns    = 0\n",
    "\n",
    "\n",
    "for file in os.listdir( img_path ):\n",
    "    # Search images\n",
    "    if file.endswith(\".jpg\"):\n",
    "        # open images\n",
    "        img_list.append( Image.open( img_path + file ) )\n",
    "        # Extract text to render on the image from the file name\n",
    "        img_text.append( file.split(\"-\")[1].split(\".\")[0] )\n",
    "        # Print info\n",
    "        print 'File:', file, ' => ', img_text[-1]\n",
    "\n",
    "\n",
    "for image in img_list:\n",
    "    # resize images\n",
    "    image.thumbnail( (width, height) )\n",
    "\n",
    "columns = len(img_list)/rows\n",
    "\n",
    "#creates a new empty image, RGB mode\n",
    "mosaic = Image.new( 'RGB', (  columns * width, rows * height ) )\n",
    "\n",
    "# Prepare draw and font objects to render text\n",
    "draw   = ImageDraw.Draw(mosaic)\n",
    "font   = ImageFont.truetype(\"C:/Windows/Fonts/arial.ttf\",text_size)\n",
    "\n",
    "k=0\n",
    "for j in xrange( 0, rows * height, height ):\n",
    "    for i in xrange( 0, columns * width, width ):\n",
    "        # paste the image at location i,j:\n",
    "        mosaic.paste( img_list[k], (i,j) )\n",
    "        # render text at location i,j:\n",
    "        draw.text((i + text_pos_x, j + text_pos_y), img_text[k], font=font)\n",
    "        # Select next image and text\n",
    "        k = k + 1\n",
    "\n",
    "# Save image to file\n",
    "mosaic.save('mosaic.jpg')"
   ]
  }
 ],
 "metadata": {
  "kernelspec": {
   "display_name": "Python 3",
   "language": "python",
   "name": "python3"
  },
  "language_info": {
   "codemirror_mode": {
    "name": "ipython",
    "version": 3
   },
   "file_extension": ".py",
   "mimetype": "text/x-python",
   "name": "python",
   "nbconvert_exporter": "python",
   "pygments_lexer": "ipython3",
   "version": "3.5.2"
  }
 },
 "nbformat": 4,
 "nbformat_minor": 2
}
