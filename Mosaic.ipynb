{
 "cells": [
  {
   "cell_type": "code",
   "execution_count": 61,
   "metadata": {},
   "outputs": [],
   "source": [
    "import os\n",
    "from PIL import Image\n",
    "from PIL import ImageFont\n",
    "from PIL import ImageDraw\n",
    "import natsort \n",
    "import numpy as np\n",
    "\n",
    "def Mosaic(img_path,outfile):\n",
    "    img_list   = []\n",
    "\n",
    "    width      = 290 #684\n",
    "    height     = 229 #1024\n",
    "\n",
    "    rows       = 10\n",
    "    columns    = 10\n",
    "\n",
    "    filelist=[]\n",
    "    for file in os.listdir(img_path):\n",
    "        if file.endswith(\".png\"):\n",
    "            filelist.append( file ) \n",
    "\n",
    "\n",
    "    sorted_files=natsort.natsorted(filelist)\n",
    "\n",
    "    for file in sorted_files:    \n",
    "        img_list.append( Image.open(img_path+ file ) )\n",
    "\n",
    "    for image in img_list:\n",
    "        # resize images\n",
    "        image.thumbnail( (width, height) )\n",
    "\n",
    "    columns = len(img_list)/rows\n",
    "\n",
    "    #creates a new empty image, RGB mode\n",
    "    mosaic = Image.new( 'RGB', (  int(columns * width), int(rows * height) ) )\n",
    "\n",
    "    # Prepare draw and font objects to render text\n",
    "    draw   = ImageDraw.Draw(mosaic)\n",
    "\n",
    "    k=0\n",
    "    B_width=int(width/4)\n",
    "    blanks = Image.new( 'RGB', (  int(B_width), int(height) ) , \"white\")\n",
    "#     blanks=np.zeros([height,B_width])\n",
    "    for j in range( 0, int(columns * height), height ):\n",
    "        for i in range( 0, int(columns * (width+B_width)), width+B_width ):\n",
    "            # paste the image at location i,j:\n",
    "            \n",
    "            mosaic.paste( img_list[k], (i,j) )\n",
    "            mosaic.paste( blanks, (i+width,j) )\n",
    "            # Select next image and text\n",
    "            k = k + 1\n",
    "\n",
    "    # Save image to file\n",
    "    mosaic.save(outfile)"
   ]
  },
  {
   "cell_type": "code",
   "execution_count": 62,
   "metadata": {},
   "outputs": [],
   "source": [
    "tasks=['EMOTION','GAMBLING','LANGUAGE','MOTOR','RELATIONAL','SOCIAL','WM']\n",
    "for task in tasks:    \n",
    "    W1='/home/share/TmpData/Qinglin/HCP_Group_DBN/Maps/'+task+'_W1/'\n",
    "    W2='/home/share/TmpData/Qinglin/HCP_Group_DBN/Maps/'+task+'_W2/'\n",
    "    W3='/home/share/TmpData/Qinglin/HCP_Group_DBN/Maps/'+task+'_W3/'\n",
    "    out1='/home/share/TmpData/Qinglin/HCP_Group_DBN/AllMaps/'+task+'_W1.png'\n",
    "    out2='/home/share/TmpData/Qinglin/HCP_Group_DBN/AllMaps/'+task+'_W2.png'\n",
    "    out3='/home/share/TmpData/Qinglin/HCP_Group_DBN/AllMaps/'+task+'_W3.png'\n",
    "    Mosaic(W1,out1)\n",
    "    Mosaic(W2,out2)\n",
    "    Mosaic(W3,out3)"
   ]
  },
  {
   "cell_type": "code",
   "execution_count": 63,
   "metadata": {},
   "outputs": [
    {
     "name": "stdout",
     "output_type": "stream",
     "text": [
      "0\n",
      "165\n",
      "330\n",
      "495\n",
      "660\n",
      "825\n",
      "990\n",
      "1155\n",
      "1320\n",
      "1485\n"
     ]
    }
   ],
   "source": [
    "for j in range( 0, int(columns * width), height ):\n",
    "    print(j)"
   ]
  },
  {
   "cell_type": "code",
   "execution_count": null,
   "metadata": {},
   "outputs": [],
   "source": []
  }
 ],
 "metadata": {
  "kernelspec": {
   "display_name": "Python 3",
   "language": "python",
   "name": "python3"
  },
  "language_info": {
   "codemirror_mode": {
    "name": "ipython",
    "version": 3
   },
   "file_extension": ".py",
   "mimetype": "text/x-python",
   "name": "python",
   "nbconvert_exporter": "python",
   "pygments_lexer": "ipython3",
   "version": "3.5.2"
  }
 },
 "nbformat": 4,
 "nbformat_minor": 2
}
