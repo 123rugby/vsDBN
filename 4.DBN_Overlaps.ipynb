{
 "cells": [
  {
   "cell_type": "code",
   "execution_count": 18,
   "metadata": {},
   "outputs": [],
   "source": [
    "import numpy as np\n",
    "def MapHierach( a, b):\n",
    "    I = np.count_nonzero(np.logical_and(a, b))\n",
    "    A=np.count_nonzero(a)\n",
    "    B=np.count_nonzero(b)\n",
    "    return I/min([A,B])\n",
    "\n",
    "import numpy as np\n",
    "def MapOverlap( a, b):\n",
    "    Intersect = np.logical_and(a, b)\n",
    "    Union=np.logical_or(a, b)\n",
    "    return np.count_nonzero(Intersect)/np.count_nonzero(Union)"
   ]
  },
  {
   "cell_type": "code",
   "execution_count": 19,
   "metadata": {},
   "outputs": [],
   "source": [
    "# from scipy.stats import entropy\n",
    "# def MI(a,b):\n",
    "#     return metrics.mutual_info_score(a,b)/(entropy(a,b)+entropy(b,a))/2"
   ]
  },
  {
   "cell_type": "code",
   "execution_count": 20,
   "metadata": {},
   "outputs": [],
   "source": [
    "from sklearn import metrics\n",
    "def LayerOverlap(A,B):\n",
    "#     print(\"foo\")\n",
    "    D=[]\n",
    "    for i,a in enumerate(A):\n",
    "#         print(i)\n",
    "        D.append([])\n",
    "        for j,b in enumerate(B):\n",
    "            score=MapOverlap(a,b)\n",
    "            if score==1:\n",
    "                score=0\n",
    "            D[i].append(score)\n",
    "    return D\n"
   ]
  },
  {
   "cell_type": "code",
   "execution_count": 21,
   "metadata": {},
   "outputs": [],
   "source": [
    "%matplotlib inline\n",
    "import matplotlib.pyplot as plt\n",
    "import seaborn as sns\n",
    "def plot(D,file):\n",
    "    mask = np.zeros_like(D, dtype=np.bool)\n",
    "    mask[np.triu_indices_from(mask)] = True\n",
    "    plt.figure()\n",
    "    sns_plot=sns.clustermap(D,cmap=\"Reds\")\n",
    "#     sns_plot=sns.clustermap(D,cmap=\"Reds\",col_cluster=False,row_cluster=False,xticklabels=10)\n",
    "#     sns_plot.cax.set_visible(False)\n",
    "#     # gap issue https://github.com/mwaskom/seaborn/pull/441\n",
    "#     col = sns_plot.ax_col_dendrogram.get_position()\n",
    "#     sns_plot.ax_col_dendrogram.set_position([col.x0, col.y0, col.width, col.height*0.01])\n",
    "\n",
    "    plt.savefig(file, bbox_inches='tight')\n",
    "    \n",
    "\n",
    "\n",
    "\n",
    "\n"
   ]
  },
  {
   "cell_type": "code",
   "execution_count": 22,
   "metadata": {},
   "outputs": [
    {
     "name": "stdout",
     "output_type": "stream",
     "text": [
      "0 EMOTION\n",
      "1 GAMBLING\n",
      "2 LANGUAGE\n",
      "3 MOTOR\n",
      "4 RELATIONAL\n",
      "5 SOCIAL\n",
      "6 WM\n",
      "loaded\n"
     ]
    },
    {
     "data": {
      "text/plain": [
       "[None, None, None, None, None, None, None]"
      ]
     },
     "execution_count": 22,
     "metadata": {},
     "output_type": "execute_result"
    }
   ],
   "source": [
    "import numpy as np\n",
    "tasks=['EMOTION','GAMBLING','LANGUAGE','MOTOR','RELATIONAL','SOCIAL','WM']\n",
    "\n",
    "map1=[]\n",
    "for i,task in enumerate(tasks):\n",
    "    print(i,task)\n",
    "    map1.append(np.load('/storage/HCP_Group_DBN/'+task+'_map1.npy'))\n",
    "print(\"loaded\")\n",
    "def run(idx,taskname):\n",
    "    D1=[]\n",
    "    \n",
    "    for i,task in enumerate(tasks):     \n",
    "        print(i,task)\n",
    "        D1.append(LayerOverlap(map1[idx],map1[i]))\n",
    "    np.save('/storage/HCP_Group_DBN/Overlap/'+taskname+'_D1.npy',D1)\n",
    "\n",
    "from joblib import Parallel, delayed     \n",
    "# run(0,\"EMOTION\")\n",
    "Parallel(n_jobs=7)(delayed(run)(idx,taskname) for idx,taskname in enumerate(tasks))\n"
   ]
  },
  {
   "cell_type": "code",
   "execution_count": 23,
   "metadata": {},
   "outputs": [
    {
     "data": {
      "text/plain": [
       "[None, None, None, None, None, None, None]"
      ]
     },
     "execution_count": 23,
     "metadata": {},
     "output_type": "execute_result"
    }
   ],
   "source": [
    "import numpy as np\n",
    "tasks=['EMOTION','GAMBLING','LANGUAGE','MOTOR','RELATIONAL','SOCIAL','WM']\n",
    "\n",
    "map2=[]\n",
    "for i,task in enumerate(tasks):\n",
    "    map2.append(np.load('/storage/HCP_Group_DBN/'+task+'_map2.npy'))\n",
    "\n",
    "def run(idx,taskname):\n",
    "    D2=[]\n",
    "    \n",
    "    for i,task in enumerate(tasks):     \n",
    "        D2.append(LayerOverlap(map2[idx],map2[i]))\n",
    "    np.save('/storage/HCP_Group_DBN/Overlap/'+taskname+'_D2.npy',D2)\n",
    "\n",
    "from joblib import Parallel, delayed     \n",
    "# run(0,\"EMOTION\")\n",
    "Parallel(n_jobs=7)(delayed(run)(idx,taskname) for idx,taskname in enumerate(tasks))\n"
   ]
  },
  {
   "cell_type": "code",
   "execution_count": 24,
   "metadata": {},
   "outputs": [
    {
     "data": {
      "text/plain": [
       "[None, None, None, None, None, None, None]"
      ]
     },
     "execution_count": 24,
     "metadata": {},
     "output_type": "execute_result"
    }
   ],
   "source": [
    "import numpy as np\n",
    "tasks=['EMOTION','GAMBLING','LANGUAGE','MOTOR','RELATIONAL','SOCIAL','WM']\n",
    "\n",
    "map3=[]\n",
    "for i,task in enumerate(tasks):\n",
    "    map3.append(np.load('/storage/HCP_Group_DBN/'+task+'_map3.npy'))\n",
    "\n",
    "def run(idx,taskname):\n",
    "    D3=[]\n",
    "    \n",
    "    for i,task in enumerate(tasks):     \n",
    "        D3.append(LayerOverlap(map3[idx],map3[i]))\n",
    "    np.save('/storage/HCP_Group_DBN/Overlap/'+taskname+'_D3.npy',D3)\n",
    "\n",
    "from joblib import Parallel, delayed     \n",
    "# run(0,\"EMOTION\")\n",
    "Parallel(n_jobs=7)(delayed(run)(idx,taskname) for idx,taskname in enumerate(tasks))\n"
   ]
  },
  {
   "cell_type": "code",
   "execution_count": null,
   "metadata": {},
   "outputs": [],
   "source": []
  }
 ],
 "metadata": {
  "kernelspec": {
   "display_name": "Python 3",
   "language": "python",
   "name": "python3"
  },
  "language_info": {
   "codemirror_mode": {
    "name": "ipython",
    "version": 3
   },
   "file_extension": ".py",
   "mimetype": "text/x-python",
   "name": "python",
   "nbconvert_exporter": "python",
   "pygments_lexer": "ipython3",
   "version": "3.5.2"
  }
 },
 "nbformat": 4,
 "nbformat_minor": 2
}
